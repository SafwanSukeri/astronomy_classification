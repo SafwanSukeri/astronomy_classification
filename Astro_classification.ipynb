{
 "cells": [
  {
   "cell_type": "code",
   "execution_count": 4,
   "id": "d04e1f65-c3d4-4d5c-9b1b-e7c6d66f0bed",
   "metadata": {},
   "outputs": [],
   "source": [
    "import pandas as pd\n",
    "import os\n",
    "from tqdm import tqdm"
   ]
  },
  {
   "cell_type": "code",
   "execution_count": 5,
   "id": "0b4a6f9c",
   "metadata": {},
   "outputs": [],
   "source": [
    "import warnings\n",
    "warnings.filterwarnings(\"ignore\")"
   ]
  },
  {
   "cell_type": "markdown",
   "id": "52ee2658",
   "metadata": {},
   "source": [
    "# Introduction\n",
    "Based on the task description and initial consultation, \n",
    "the assignment was to classify astronomical object from the perspective of data analyst standpoint.<br>\n",
    "Hence, the project will focus on building the features base on the variables and analyse it using the relevant clustering analysis method / algorithm"
   ]
  },
  {
   "cell_type": "markdown",
   "id": "d26ce83a-5285-4f8f-a371-374beba122cd",
   "metadata": {},
   "source": [
    "# Data Engineering (converting txt file to pandas dataframe)\n",
    "\n",
    "<p>As all the information about the objects are provided in the format of txt file.<br>\n",
    "The first step is to build a function that simulate the data as one dataframe and export it as one csv file.<br>\n",
    "The simulation steps are as follows : <br>\n",
    "\n",
    "1. Set the directory of the text files\n",
    "2. Import the os package and return the list of file names using the os method\n",
    "3. Define a function to separate the white space between the column and return it as a list\n",
    "4. Create a loop function to iterate all the txt files and append each object into a dataframe\n",
    "5. Filter the relevant column as explained in the briefing\n",
    "6. Return the total dataframe as .csv format \n",
    "\n",
    "A glimpse of the dataset is as follows:\n",
    "\n"
   ]
  },
  {
   "cell_type": "code",
   "execution_count": 6,
   "id": "c7175d82-d5f9-4461-b913-ace495cdcdfd",
   "metadata": {},
   "outputs": [],
   "source": [
    "DATA_DIR = 'astro-analytathon-master/astro-analytathon-master/data/'"
   ]
  },
  {
   "cell_type": "code",
   "execution_count": 7,
   "id": "8eea6ae1-18ed-49c8-ae1a-e3feb51ae1b8",
   "metadata": {},
   "outputs": [],
   "source": [
    "files = os.listdir(DATA_DIR)\n",
    "#list all the files in the Direction"
   ]
  },
  {
   "cell_type": "code",
   "execution_count": 8,
   "id": "5c651584-0918-493a-b821-7fe1a66db313",
   "metadata": {},
   "outputs": [],
   "source": [
    "files = list(filter(lambda file:\".txt\" in file, files))\n",
    "#only return text file"
   ]
  },
  {
   "cell_type": "code",
   "execution_count": 9,
   "id": "a08cb7ce",
   "metadata": {},
   "outputs": [],
   "source": [
    "header = '###MJD,m,dm,uJy,duJy,F,err,chi/N,RA,Dec,x,y,maj,min,phi,apfit,mag5sig,Sky,Obs'\n",
    "\n",
    "header = header.split(\",\")"
   ]
  },
  {
   "cell_type": "code",
   "execution_count": 10,
   "id": "376cf617-5809-47ad-82a6-52ee12d06f5e",
   "metadata": {},
   "outputs": [],
   "source": [
    "#define function to separate white space and differentiate each collumn in the text file\n",
    "def fix_space_data(string):\n",
    "    \n",
    "    return string.replace(\"      \",\" \").replace(\"     \",\" \").replace(\"    \",\" \").replace(\"   \",\" \").replace(\"  \",\" \").split(\" \")"
   ]
  },
  {
   "cell_type": "code",
   "execution_count": 14,
   "id": "1ea19460-2bdb-412a-be64-c8f2a29cf716",
   "metadata": {},
   "outputs": [],
   "source": [
    "#this loop takes time to run. \n",
    "#Using For loop to combine all the txt file, applying the function to recognize all the columns in the txt file\n",
    "#ONLY RUN THIS IF REQUIRE NEW CSV FILE. if not proceed to DATA CLEANING AND EDA\n",
    "df = pd.DataFrame()\n",
    "\n",
    "index = 1\n",
    "error_file = []\n",
    "for file in files:\n",
    "    \n",
    "    try:\n",
    "        df_raw = pd.read_csv(f\"{DATA_DIR}{file}\")\n",
    "        df_temp = pd.DataFrame(df_raw.applymap(fix_space_data).iloc[:,0].tolist())\n",
    "        df_temp.columns = header\n",
    "        df_temp[\"Object\"] = index\n",
    "        df_temp['uuid'] = str(file)\n",
    "        index += 1\n",
    "\n",
    "        df = df.append(df_temp)\n",
    "        \n",
    "    except:\n",
    "        \n",
    "        print(file)\n",
    "        error_file.append(file)"
   ]
  },
  {
   "cell_type": "code",
   "execution_count": 21,
   "id": "5a19f5d8",
   "metadata": {},
   "outputs": [],
   "source": [
    "df1 = df"
   ]
  },
  {
   "cell_type": "code",
   "execution_count": 22,
   "id": "d7251a6c-517a-49ec-88ce-dd605dade4d4",
   "metadata": {},
   "outputs": [],
   "source": [
    "df1 = df1.reset_index().drop(\"index\", axis = 1)"
   ]
  },
  {
   "cell_type": "code",
   "execution_count": 23,
   "id": "5d91a47f",
   "metadata": {},
   "outputs": [],
   "source": [
    "df1['uuid'] = df1['uuid'].astype(str)"
   ]
  },
  {
   "cell_type": "code",
   "execution_count": 24,
   "id": "78cc3c1f",
   "metadata": {},
   "outputs": [],
   "source": [
    "df1['uuid'] = df1.uuid.str[20:24]"
   ]
  },
  {
   "cell_type": "code",
   "execution_count": 25,
   "id": "b725e0a1",
   "metadata": {},
   "outputs": [],
   "source": [
    "df1 = df1.iloc[:, [0,3,4,5,7,19,20]]"
   ]
  },
  {
   "cell_type": "code",
   "execution_count": 26,
   "id": "2b53963a",
   "metadata": {},
   "outputs": [
    {
     "data": {
      "text/html": [
       "<div>\n",
       "<style scoped>\n",
       "    .dataframe tbody tr th:only-of-type {\n",
       "        vertical-align: middle;\n",
       "    }\n",
       "\n",
       "    .dataframe tbody tr th {\n",
       "        vertical-align: top;\n",
       "    }\n",
       "\n",
       "    .dataframe thead th {\n",
       "        text-align: right;\n",
       "    }\n",
       "</style>\n",
       "<table border=\"1\" class=\"dataframe\">\n",
       "  <thead>\n",
       "    <tr style=\"text-align: right;\">\n",
       "      <th></th>\n",
       "      <th>###MJD</th>\n",
       "      <th>uJy</th>\n",
       "      <th>duJy</th>\n",
       "      <th>F</th>\n",
       "      <th>chi/N</th>\n",
       "      <th>Object</th>\n",
       "      <th>uuid</th>\n",
       "    </tr>\n",
       "  </thead>\n",
       "  <tbody>\n",
       "    <tr>\n",
       "      <th>0</th>\n",
       "      <td>57248.473434</td>\n",
       "      <td>-125</td>\n",
       "      <td>92</td>\n",
       "      <td>c</td>\n",
       "      <td>0.94</td>\n",
       "      <td>1</td>\n",
       "      <td>2776</td>\n",
       "    </tr>\n",
       "    <tr>\n",
       "      <th>1</th>\n",
       "      <td>57248.491712</td>\n",
       "      <td>-84</td>\n",
       "      <td>113</td>\n",
       "      <td>c</td>\n",
       "      <td>1.16</td>\n",
       "      <td>1</td>\n",
       "      <td>2776</td>\n",
       "    </tr>\n",
       "    <tr>\n",
       "      <th>2</th>\n",
       "      <td>57248.524200</td>\n",
       "      <td>-220</td>\n",
       "      <td>359</td>\n",
       "      <td>c</td>\n",
       "      <td>0.98</td>\n",
       "      <td>1</td>\n",
       "      <td>2776</td>\n",
       "    </tr>\n",
       "    <tr>\n",
       "      <th>3</th>\n",
       "      <td>57248.550040</td>\n",
       "      <td>125</td>\n",
       "      <td>796</td>\n",
       "      <td>c</td>\n",
       "      <td>1.10</td>\n",
       "      <td>1</td>\n",
       "      <td>2776</td>\n",
       "    </tr>\n",
       "    <tr>\n",
       "      <th>4</th>\n",
       "      <td>57313.373363</td>\n",
       "      <td>-47</td>\n",
       "      <td>19</td>\n",
       "      <td>c</td>\n",
       "      <td>0.87</td>\n",
       "      <td>1</td>\n",
       "      <td>2776</td>\n",
       "    </tr>\n",
       "  </tbody>\n",
       "</table>\n",
       "</div>"
      ],
      "text/plain": [
       "         ###MJD   uJy duJy  F chi/N  Object  uuid\n",
       "0  57248.473434  -125   92  c  0.94       1  2776\n",
       "1  57248.491712   -84  113  c  1.16       1  2776\n",
       "2  57248.524200  -220  359  c  0.98       1  2776\n",
       "3  57248.550040   125  796  c  1.10       1  2776\n",
       "4  57313.373363   -47   19  c  0.87       1  2776"
      ]
     },
     "execution_count": 26,
     "metadata": {},
     "output_type": "execute_result"
    }
   ],
   "source": [
    "df1.head(5)"
   ]
  },
  {
   "cell_type": "code",
   "execution_count": 147,
   "id": "3880a47d-1df4-4a97-9e93-e532f36b0aac",
   "metadata": {},
   "outputs": [],
   "source": [
    "df1.to_pickle(\"rawdata_final.pkl\")"
   ]
  },
  {
   "cell_type": "code",
   "execution_count": 148,
   "id": "ee81feca-50f2-4eb7-9462-f68a2c2e7e28",
   "metadata": {},
   "outputs": [],
   "source": [
    "df1.to_csv(\"rawdata_final.csv\")"
   ]
  },
  {
   "cell_type": "markdown",
   "id": "a229e79f-2ca3-4c6b-9cbd-5ab470427765",
   "metadata": {},
   "source": [
    "# Data Cleaning and Exploratory Data Analysis\n",
    "\n",
    "<p>The next important step towards clustering analysis is the preparation of dataset. <br>\n",
    "Firstly, the data is investigated via Exploratory Data Analysis (EDA). <br>\n",
    "A few variable plots are also visualised in order to further analyse the characteristic of the data."
   ]
  },
  {
   "cell_type": "code",
   "execution_count": 27,
   "id": "f2b0389b-5891-48df-aa25-657445c043e1",
   "metadata": {
    "tags": []
   },
   "outputs": [
    {
     "data": {
      "text/html": [
       "<div>\n",
       "<style scoped>\n",
       "    .dataframe tbody tr th:only-of-type {\n",
       "        vertical-align: middle;\n",
       "    }\n",
       "\n",
       "    .dataframe tbody tr th {\n",
       "        vertical-align: top;\n",
       "    }\n",
       "\n",
       "    .dataframe thead th {\n",
       "        text-align: right;\n",
       "    }\n",
       "</style>\n",
       "<table border=\"1\" class=\"dataframe\">\n",
       "  <thead>\n",
       "    <tr style=\"text-align: right;\">\n",
       "      <th></th>\n",
       "      <th>uJy</th>\n",
       "      <th>duJy</th>\n",
       "      <th>chi/N</th>\n",
       "    </tr>\n",
       "  </thead>\n",
       "  <tbody>\n",
       "    <tr>\n",
       "      <th>count</th>\n",
       "      <td>9.478740e+05</td>\n",
       "      <td>9.478740e+05</td>\n",
       "      <td>9.477990e+05</td>\n",
       "    </tr>\n",
       "    <tr>\n",
       "      <th>mean</th>\n",
       "      <td>2.151482e+01</td>\n",
       "      <td>1.380813e+02</td>\n",
       "      <td>2.538846e+01</td>\n",
       "    </tr>\n",
       "    <tr>\n",
       "      <th>std</th>\n",
       "      <td>1.493705e+04</td>\n",
       "      <td>6.984684e+03</td>\n",
       "      <td>8.577409e+03</td>\n",
       "    </tr>\n",
       "    <tr>\n",
       "      <th>min</th>\n",
       "      <td>-4.237580e+06</td>\n",
       "      <td>0.000000e+00</td>\n",
       "      <td>-2.000000e+00</td>\n",
       "    </tr>\n",
       "    <tr>\n",
       "      <th>25%</th>\n",
       "      <td>-3.100000e+01</td>\n",
       "      <td>1.300000e+01</td>\n",
       "      <td>1.040000e+00</td>\n",
       "    </tr>\n",
       "    <tr>\n",
       "      <th>50%</th>\n",
       "      <td>-3.000000e+00</td>\n",
       "      <td>1.800000e+01</td>\n",
       "      <td>1.250000e+00</td>\n",
       "    </tr>\n",
       "    <tr>\n",
       "      <th>75%</th>\n",
       "      <td>2.100000e+01</td>\n",
       "      <td>3.000000e+01</td>\n",
       "      <td>1.610000e+00</td>\n",
       "    </tr>\n",
       "    <tr>\n",
       "      <th>max</th>\n",
       "      <td>1.043294e+07</td>\n",
       "      <td>2.964111e+06</td>\n",
       "      <td>7.322680e+06</td>\n",
       "    </tr>\n",
       "  </tbody>\n",
       "</table>\n",
       "</div>"
      ],
      "text/plain": [
       "                uJy          duJy         chi/N\n",
       "count  9.478740e+05  9.478740e+05  9.477990e+05\n",
       "mean   2.151482e+01  1.380813e+02  2.538846e+01\n",
       "std    1.493705e+04  6.984684e+03  8.577409e+03\n",
       "min   -4.237580e+06  0.000000e+00 -2.000000e+00\n",
       "25%   -3.100000e+01  1.300000e+01  1.040000e+00\n",
       "50%   -3.000000e+00  1.800000e+01  1.250000e+00\n",
       "75%    2.100000e+01  3.000000e+01  1.610000e+00\n",
       "max    1.043294e+07  2.964111e+06  7.322680e+06"
      ]
     },
     "execution_count": 27,
     "metadata": {},
     "output_type": "execute_result"
    }
   ],
   "source": [
    "rawdata = pd.read_csv(\"rawdata_final.csv\")\n",
    "rawdata = rawdata.reset_index().drop(\"Unnamed: 0\", axis = 1).drop(\"index\", axis = 1)\n",
    "rawdata.iloc[:,[1,2,3,4]].describe()"
   ]
  },
  {
   "cell_type": "code",
   "execution_count": 28,
   "id": "af982438-4e95-4450-b0cb-e473f711671c",
   "metadata": {},
   "outputs": [],
   "source": [
    "import seaborn as sns\n",
    "import matplotlib.pyplot as plt\n",
    "import numpy as np\n",
    "import plotly.express as px"
   ]
  },
  {
   "cell_type": "code",
   "execution_count": 29,
   "id": "c3895ddb",
   "metadata": {},
   "outputs": [
    {
     "name": "stdout",
     "output_type": "stream",
     "text": [
      "number of missing data: 75\n"
     ]
    }
   ],
   "source": [
    "null_data = rawdata[rawdata.isnull().any(axis=1)]\n",
    "print(\"number of missing data:\" , null_data.iloc[:,1].isnull().count())"
   ]
  },
  {
   "cell_type": "code",
   "execution_count": 30,
   "id": "e06e7c27",
   "metadata": {},
   "outputs": [],
   "source": [
    "erdata = rawdata[rawdata[\"uuid\"] == 2778]\n",
    "xval = erdata['###MJD']\n",
    "yval = erdata['uJy']\n",
    "xerr = erdata['duJy']"
   ]
  },
  {
   "cell_type": "code",
   "execution_count": 31,
   "id": "5109eba2",
   "metadata": {},
   "outputs": [
    {
     "data": {
      "text/plain": [
       "Text(0.5, 1.0, 'ID 2778: MJD vs uJy Plot')"
      ]
     },
     "execution_count": 31,
     "metadata": {},
     "output_type": "execute_result"
    },
    {
     "data": {
      "image/png": "[encoded data removed]",
      "text/plain": [
       "<Figure size 864x360 with 2 Axes>"
      ]
     },
     "metadata": {
      "needs_background": "light"
     },
     "output_type": "display_data"
    }
   ],
   "source": [
    "fig, ax = plt.subplots(1,2,figsize = (12,5))\n",
    "sns.boxplot(data=rawdata.iloc[:,[1,2,3,4]], ax = ax[0]).set_title(\"Boxplot for uJy, duJy and chi/N\")\n",
    "sns.pointplot(x=xval, y=yval, ci = xerr, data = erdata, capsize=3, ax = ax[1], hue = \"F\").set_title(\"ID 2778: MJD vs uJy Plot\")"
   ]
  },
  {
   "cell_type": "markdown",
   "id": "ef29c316",
   "metadata": {},
   "source": [
    "<p>Based from the EDA and the boxplot:<br>\n",
    "    \n",
    "1. Significant gap value of std and min,max and mean are observed.<br>\n",
    "2. Presence of outliers for all the variable uJy, duJy and Chi/N<br>\n",
    "3. Negative values are seen in \"uJy\" and \"duJy\"<br>\n",
    "4. Extreme single high points / low points<br>\n",
    "\n",
    "Thus, further data cleaning is required which includes: <br>\n",
    "\n",
    "**1. Removing of outliers and extreme values**\n",
    "    \n",
    "- Dropping missing values\n",
    "- Removing data for Chi/n more than 20,000 & negative values<br>\n",
    "- Focusing on orange filter only<br>\n",
    "- Dropping observations for duJy > 5,000<br>\n",
    "- Includes observations for uJy more than -5,000 and less than 20,000 only<br>\n",
    "\n",
    "**2. Solution of discontinuity**\n",
    "    \n",
    "- To address this issue on discontinuity where the base value of uJy is negative<br>\n",
    "- The value of median for all negative observation is calculate.<br>\n",
    "- All the value of uJy is increased by the median value.<br>\n",
    "- This will then lift the baseline for the uJy values<br>\n",
    "- All the negative value after the shifting will be remove from the dataset</p>"
   ]
  },
  {
   "cell_type": "code",
   "execution_count": 32,
   "id": "7ae7bf18",
   "metadata": {
    "scrolled": false
   },
   "outputs": [],
   "source": [
    "#removing missing values from chi/N\n",
    "rawdata1 = rawdata.dropna(subset=['chi/N'])\n",
    "#removing values where chi/N is too big\n",
    "rawdata1 = rawdata1[rawdata1['chi/N'] < 20000]\n",
    "#removing chi/N that has negative values\n",
    "rawdata1 = rawdata1[rawdata1['chi/N'] >= 0]\n",
    "#focusing on Orange filters\n",
    "rawdata1 = rawdata1[rawdata1.F == \"o\"]\n",
    "\n",
    "#removing extreme points on duJy\n",
    "rawdata1 = rawdata1[rawdata1['duJy']<= 5000]\n",
    "\n",
    "#remove single point extreme high/low flux \n",
    "rawdata1 = rawdata1[rawdata1.uJy < 20000]\n",
    "rawdata1 = rawdata1[rawdata1.uJy > -5000]\n"
   ]
  },
  {
   "cell_type": "code",
   "execution_count": 33,
   "id": "c6f187ff",
   "metadata": {},
   "outputs": [],
   "source": [
    "#shifting the value of uJy above the median for discontinued dataset across lightcurve\n",
    "i = 1\n",
    "\n",
    "while i <= len(rawdata1.Object.unique()):\n",
    "    median = abs(rawdata1[(rawdata1.uJy < 0) & (rawdata1.Object == i)].uJy.median())\n",
    "    rawdata1.loc[rawdata1.Object == i, \"uJy\" ] = rawdata1.loc[rawdata1.Object == i, \"uJy\" ] + abs(median)\n",
    "    \n",
    "    i += 1"
   ]
  },
  {
   "cell_type": "code",
   "execution_count": 34,
   "id": "f2252ab6",
   "metadata": {},
   "outputs": [],
   "source": [
    "#removing the negative value after shifting, treating uJy below zero as negative value as uJy cannot be negative\n",
    "rawdata1 = rawdata1[rawdata1.uJy >= 0]"
   ]
  },
  {
   "cell_type": "code",
   "execution_count": 35,
   "id": "aa5ccf86",
   "metadata": {},
   "outputs": [],
   "source": [
    "erdata1 = rawdata1[rawdata1[\"uuid\"] == 2778]\n",
    "xval1 = erdata1['###MJD']\n",
    "yval1 = erdata1['uJy']\n",
    "xerr1 = erdata1['duJy']"
   ]
  },
  {
   "cell_type": "code",
   "execution_count": 36,
   "id": "32c2e8fe",
   "metadata": {
    "scrolled": false
   },
   "outputs": [
    {
     "data": {
      "text/plain": [
       "Text(0.5, 1.0, 'ID 2778: MJD vs uJy Plot')"
      ]
     },
     "execution_count": 36,
     "metadata": {},
     "output_type": "execute_result"
    },
    {
     "data": {
      "image/png": "[encoded data removed]",
      "text/plain": [
       "<Figure size 864x360 with 2 Axes>"
      ]
     },
     "metadata": {
      "needs_background": "light"
     },
     "output_type": "display_data"
    }
   ],
   "source": [
    "fig, ax = plt.subplots(1,2,figsize = (12,5))\n",
    "sns.boxplot(data=rawdata1.iloc[:,[1,2,3,4]], ax = ax[0]).set_title(\"Boxplot for uJy, duJy and chi/N\")\n",
    "sns.pointplot(x=xval1, y=yval1, ci = xerr1, data = erdata1, capsize=3, ax = ax[1], hue = \"F\").set_title(\"ID 2778: MJD vs uJy Plot\")"
   ]
  },
  {
   "cell_type": "markdown",
   "id": "417b526e",
   "metadata": {},
   "source": [
    "<p>The result of the data cleaning are visualised above: <br>\n",
    "    From the boxplot the data tend to have better boundaries for all the observation.<br> Filtering the data for ID 2778, the plot then showcased the baseline value at uJy = 0. It also showed a period where the value of uJy increased implying supernovae is occuring, followed by the decaying value right after. </p>\n",
    "    \n",
    "<p>The next step is to build the feature variables based on the filtered dataset. <br>\n",
    "    "
   ]
  },
  {
   "cell_type": "markdown",
   "id": "9315d7b5",
   "metadata": {},
   "source": [
    "#  Feature Constructing\n",
    "\n",
    "<p> Creating features are important as most data analytics algorythm will produce results based on the data provided.<br>\n",
    "    In this project, the two main features that will be used are:</p>\n",
    "    \n",
    "1. Flux value during supernovae(uJy)<br>\n",
    "2. Duration of the supernova\n",
    "    \n",
    "<p>However due to the limitation of astronomical knowledge the following key assumptions used are: </p>\n",
    "\n",
    "1. Defining the active values/supernova when the flux value is more than 5 times the value of the error<br>\n",
    "2. The duration is the length of observation when (1) is achieved.<br>\n",
    "3. The mean value flux is taken as representation for each object.<br>"
   ]
  },
  {
   "cell_type": "code",
   "execution_count": 37,
   "id": "919aa10b",
   "metadata": {},
   "outputs": [],
   "source": [
    "rawdata1 = rawdata1[rawdata1['uJy'] >= (rawdata1['duJy']*5)]"
   ]
  },
  {
   "cell_type": "code",
   "execution_count": 38,
   "id": "0de37ae9",
   "metadata": {},
   "outputs": [],
   "source": [
    "i = 1\n",
    "df = pd.DataFrame()\n",
    "while i <= len(rawdata1.Object.unique()):\n",
    "    df_temp = rawdata1[rawdata1.Object == i]\n",
    "    df_temp['duration'] = len(df_temp)\n",
    "    df = df.append(df_temp)\n",
    "\n",
    "    i += 1\n",
    "    "
   ]
  },
  {
   "cell_type": "code",
   "execution_count": 39,
   "id": "dea17ea8",
   "metadata": {},
   "outputs": [],
   "source": [
    "rawdata1 = df"
   ]
  },
  {
   "cell_type": "code",
   "execution_count": 40,
   "id": "44f08da6",
   "metadata": {
    "scrolled": true
   },
   "outputs": [],
   "source": [
    "rawdata1 = rawdata1.groupby('uuid')['uJy','duration'].mean()"
   ]
  },
  {
   "cell_type": "code",
   "execution_count": 41,
   "id": "1c6fd277",
   "metadata": {},
   "outputs": [],
   "source": [
    "rawdata1 = rawdata1.reset_index()"
   ]
  },
  {
   "cell_type": "markdown",
   "id": "03c8c9f3",
   "metadata": {},
   "source": [
    "The glimpse of the features are as follows:"
   ]
  },
  {
   "cell_type": "code",
   "execution_count": 42,
   "id": "c52f39ca",
   "metadata": {},
   "outputs": [
    {
     "data": {
      "text/html": [
       "<div>\n",
       "<style scoped>\n",
       "    .dataframe tbody tr th:only-of-type {\n",
       "        vertical-align: middle;\n",
       "    }\n",
       "\n",
       "    .dataframe tbody tr th {\n",
       "        vertical-align: top;\n",
       "    }\n",
       "\n",
       "    .dataframe thead th {\n",
       "        text-align: right;\n",
       "    }\n",
       "</style>\n",
       "<table border=\"1\" class=\"dataframe\">\n",
       "  <thead>\n",
       "    <tr style=\"text-align: right;\">\n",
       "      <th></th>\n",
       "      <th>uuid</th>\n",
       "      <th>uJy</th>\n",
       "      <th>duration</th>\n",
       "    </tr>\n",
       "  </thead>\n",
       "  <tbody>\n",
       "    <tr>\n",
       "      <th>0</th>\n",
       "      <td>2776</td>\n",
       "      <td>202.950495</td>\n",
       "      <td>404.0</td>\n",
       "    </tr>\n",
       "    <tr>\n",
       "      <th>1</th>\n",
       "      <td>2777</td>\n",
       "      <td>101.305882</td>\n",
       "      <td>255.0</td>\n",
       "    </tr>\n",
       "    <tr>\n",
       "      <th>2</th>\n",
       "      <td>2778</td>\n",
       "      <td>2664.370370</td>\n",
       "      <td>567.0</td>\n",
       "    </tr>\n",
       "    <tr>\n",
       "      <th>3</th>\n",
       "      <td>2779</td>\n",
       "      <td>379.125490</td>\n",
       "      <td>255.0</td>\n",
       "    </tr>\n",
       "    <tr>\n",
       "      <th>4</th>\n",
       "      <td>2780</td>\n",
       "      <td>560.356371</td>\n",
       "      <td>463.0</td>\n",
       "    </tr>\n",
       "  </tbody>\n",
       "</table>\n",
       "</div>"
      ],
      "text/plain": [
       "   uuid          uJy  duration\n",
       "0  2776   202.950495     404.0\n",
       "1  2777   101.305882     255.0\n",
       "2  2778  2664.370370     567.0\n",
       "3  2779   379.125490     255.0\n",
       "4  2780   560.356371     463.0"
      ]
     },
     "execution_count": 42,
     "metadata": {},
     "output_type": "execute_result"
    }
   ],
   "source": [
    "rawdata1.head(5)"
   ]
  },
  {
   "cell_type": "markdown",
   "id": "d8b4407f",
   "metadata": {},
   "source": [
    "# Results and Methodology\n",
    "\n",
    "The analysis will be using 2 methods:<br>\n",
    "\n",
    "**1. K-Means Clustering** <br>\n",
    "\n",
    "K means tend to work well on large sample size and medium number of clusters. It also comes with an elbow method is an algorithm that runs a simulation to determine the best number of cluster\n",
    "\n",
    "**2. K-Nearest Neighbour (Ward Method)**<br>\n",
    "\n",
    "This method involves an agglomerative clustering algorithm. it works by repeatedly merging the closest two clusters but use different definitions of the distance between clusters. It is most appropriate for quantitative variables\n"
   ]
  },
  {
   "cell_type": "markdown",
   "id": "f85445b3",
   "metadata": {},
   "source": [
    "## K-Means Clustering"
   ]
  },
  {
   "cell_type": "code",
   "execution_count": 43,
   "id": "1c16bdc6",
   "metadata": {},
   "outputs": [],
   "source": [
    "from sklearn import cluster\n",
    "from sklearn.cluster import KMeans\n",
    "from sklearn.decomposition import PCA\n",
    "from sklearn.manifold import TSNE\n",
    "from sklearn.mixture import GaussianMixture\n",
    "from sklearn.neighbors import kneighbors_graph\n",
    "\n",
    "import matplotlib.image as mpimg"
   ]
  },
  {
   "cell_type": "markdown",
   "id": "942c0b07",
   "metadata": {},
   "source": [
    "The elbow algorithm results are as follows: <br>\n",
    "based from the result, it is recommended that the number of cluster is equals to 5"
   ]
  },
  {
   "cell_type": "code",
   "execution_count": 44,
   "id": "83e41b14",
   "metadata": {},
   "outputs": [
    {
     "data": {
      "text/plain": [
       "<matplotlib.image.AxesImage at 0x1986673cbe0>"
      ]
     },
     "execution_count": 44,
     "metadata": {},
     "output_type": "execute_result"
    },
    {
     "data": {
      "image/png": "[encoded data removed]",
      "text/plain": [
       "<Figure size 1080x288 with 1 Axes>"
      ]
     },
     "metadata": {
      "needs_background": "light"
     },
     "output_type": "display_data"
    }
   ],
   "source": [
    "img = mpimg.imread('ElbowMethod.png')\n",
    "plt.figure(figsize = (15,4))\n",
    "plt.imshow(img)"
   ]
  },
  {
   "cell_type": "code",
   "execution_count": 45,
   "id": "4ba2003f",
   "metadata": {},
   "outputs": [],
   "source": [
    "kmean = KMeans(n_clusters=5)"
   ]
  },
  {
   "cell_type": "code",
   "execution_count": 46,
   "id": "a743752f",
   "metadata": {},
   "outputs": [],
   "source": [
    "rawdata_gp1 = rawdata1.loc[:,['uJy','duration']]"
   ]
  },
  {
   "cell_type": "code",
   "execution_count": 47,
   "id": "1db7b973",
   "metadata": {},
   "outputs": [
    {
     "data": {
      "text/plain": [
       "KMeans(n_clusters=5)"
      ]
     },
     "execution_count": 47,
     "metadata": {},
     "output_type": "execute_result"
    }
   ],
   "source": [
    "kmean.fit(rawdata_gp1)"
   ]
  },
  {
   "cell_type": "code",
   "execution_count": 48,
   "id": "33fa9685",
   "metadata": {},
   "outputs": [],
   "source": [
    "label_mean = kmean.predict(rawdata_gp1)"
   ]
  },
  {
   "cell_type": "code",
   "execution_count": 49,
   "id": "d55643a4",
   "metadata": {},
   "outputs": [],
   "source": [
    "plot_mean = pd.DataFrame(rawdata_gp1)"
   ]
  },
  {
   "cell_type": "code",
   "execution_count": 50,
   "id": "d5df4a3f",
   "metadata": {},
   "outputs": [],
   "source": [
    "plot_mean['cluster'] = label_mean\n"
   ]
  },
  {
   "cell_type": "code",
   "execution_count": 51,
   "id": "d5f45f64",
   "metadata": {},
   "outputs": [],
   "source": [
    "plot_mean = plot_mean.rename(columns={0:'uJy',1:'duration'})"
   ]
  },
  {
   "cell_type": "code",
   "execution_count": 52,
   "id": "8d597076",
   "metadata": {},
   "outputs": [],
   "source": [
    "plot_mean.cluster = plot_mean.cluster.astype(str)"
   ]
  },
  {
   "cell_type": "code",
   "execution_count": 53,
   "id": "b943b949",
   "metadata": {},
   "outputs": [],
   "source": [
    "sample = pd.DataFrame(plot_mean.cluster.value_counts())"
   ]
  },
  {
   "cell_type": "code",
   "execution_count": 60,
   "id": "c42340da",
   "metadata": {},
   "outputs": [
    {
     "data": {
      "text/plain": [
       "Text(0.5, 1.0, 'Classification via K-Means Method')"
      ]
     },
     "execution_count": 60,
     "metadata": {},
     "output_type": "execute_result"
    },
    {
     "data": {
      "image/png": "[encoded data removed]",
      "text/plain": [
       "<Figure size 504x216 with 1 Axes>"
      ]
     },
     "metadata": {
      "needs_background": "light"
     },
     "output_type": "display_data"
    }
   ],
   "source": [
    "fig, ax = plt.subplots(figsize = (7,3))\n",
    "sns.scatterplot(x=\"uJy\", y=\"duration\", data = plot_mean, hue = \"cluster\").set_title(\"Classification via K-Means Method\")"
   ]
  },
  {
   "cell_type": "markdown",
   "id": "54f345ba",
   "metadata": {},
   "source": [
    "The result of the analysis is presented in the chart above. Based from the plot, there are 1 major cluster 1 which has 418 objects (orange), 3 minor clusters (red, blue and green) which has 115, 85 and 25 objects respectively, and 1 outlier cluster (purple) which only has 2 objects. The uJx value seems to heavily differentiating the clusters. However, the duration tend to separate the cluster Blue and Orange as well as these 2 clusters are having approximately equal value of flux (uJy). <br>\n",
    "\n",
    "There is also an outlier cluster which only consist of 2 objects, which are uuid 2916 and 2938. These 2 objects have extremely high value of flux which separate them from most of other objects.The duration of these 2 objects are 37 and 72 respectively. Further analysis should be done to study whether the flux value are accurate. There is a possibility that these value of flux are magnified due to the distant of the object are nearer compared to other objects.<br>\n",
    "\n",
    "next, the data is analysed using the Ward Method. "
   ]
  },
  {
   "cell_type": "markdown",
   "id": "dd6adaf3",
   "metadata": {},
   "source": [
    "## K-Nearest Neighbour (Ward Method)"
   ]
  },
  {
   "cell_type": "code",
   "execution_count": 62,
   "id": "0711145e",
   "metadata": {},
   "outputs": [],
   "source": [
    "rawdata_gp2 = rawdata1.loc[:,['uJy','duration']]"
   ]
  },
  {
   "cell_type": "code",
   "execution_count": 63,
   "id": "489b27ed",
   "metadata": {},
   "outputs": [],
   "source": [
    "connectivity = kneighbors_graph(rawdata_gp2, n_neighbors=5, include_self=False)\n",
    "    # make connectivity symmetric\n",
    "connectivity = 0.5 * (connectivity + connectivity.T)"
   ]
  },
  {
   "cell_type": "code",
   "execution_count": 64,
   "id": "f0109c92",
   "metadata": {
    "scrolled": true
   },
   "outputs": [],
   "source": [
    "ward = cluster.AgglomerativeClustering(n_clusters= 5 , linkage='ward',connectivity=connectivity)"
   ]
  },
  {
   "cell_type": "code",
   "execution_count": 65,
   "id": "a1b0fc68",
   "metadata": {},
   "outputs": [
    {
     "data": {
      "text/plain": [
       "AgglomerativeClustering(connectivity=<645x645 sparse matrix of type '<class 'numpy.float64'>'\n",
       "\twith 3960 stored elements in Compressed Sparse Row format>,\n",
       "                        n_clusters=5)"
      ]
     },
     "execution_count": 65,
     "metadata": {},
     "output_type": "execute_result"
    }
   ],
   "source": [
    "ward.fit(rawdata_gp2)"
   ]
  },
  {
   "cell_type": "code",
   "execution_count": 66,
   "id": "d14fa541",
   "metadata": {},
   "outputs": [],
   "source": [
    "label_ward = ward.fit_predict(rawdata_gp2)"
   ]
  },
  {
   "cell_type": "code",
   "execution_count": 67,
   "id": "ef46c211",
   "metadata": {},
   "outputs": [],
   "source": [
    "plot_ward = pd.DataFrame(rawdata_gp2)"
   ]
  },
  {
   "cell_type": "code",
   "execution_count": 68,
   "id": "af1e85f0",
   "metadata": {},
   "outputs": [],
   "source": [
    "plot_ward['cluster'] = label_ward\n"
   ]
  },
  {
   "cell_type": "code",
   "execution_count": 69,
   "id": "d8396ed0",
   "metadata": {},
   "outputs": [],
   "source": [
    "plot_ward = plot_ward.rename(columns={0:'uJy',1:'duration'})"
   ]
  },
  {
   "cell_type": "code",
   "execution_count": 70,
   "id": "0d630dda",
   "metadata": {},
   "outputs": [],
   "source": [
    "import plotly.express as px"
   ]
  },
  {
   "cell_type": "code",
   "execution_count": 71,
   "id": "dd10c47a",
   "metadata": {},
   "outputs": [],
   "source": [
    "plot_ward.cluster = plot_ward.cluster.astype(str)"
   ]
  },
  {
   "cell_type": "code",
   "execution_count": 72,
   "id": "fb259893",
   "metadata": {},
   "outputs": [],
   "source": [
    "sample_ward = pd.DataFrame(plot_ward.cluster.value_counts())"
   ]
  },
  {
   "cell_type": "code",
   "execution_count": 73,
   "id": "65761068",
   "metadata": {},
   "outputs": [
    {
     "data": {
      "text/plain": [
       "Text(0.5, 1.0, 'Classification via KNN-Ward Method')"
      ]
     },
     "execution_count": 73,
     "metadata": {},
     "output_type": "execute_result"
    },
    {
     "data": {
      "image/png": "[encoded data removed]",
      "text/plain": [
       "<Figure size 504x216 with 1 Axes>"
      ]
     },
     "metadata": {
      "needs_background": "light"
     },
     "output_type": "display_data"
    }
   ],
   "source": [
    "fig, ax = plt.subplots(figsize = (7,3))\n",
    "sns.scatterplot(x=\"uJy\", y=\"duration\", data = plot_ward, hue = \"cluster\").set_title(\"Classification via KNN-Ward Method\")"
   ]
  },
  {
   "cell_type": "markdown",
   "id": "873cc100",
   "metadata": {},
   "source": [
    "Similar results are observed even when classifying using the Ward Method. The clusters are still consist of 1 Major cluster, 3 minor and 1 outlier clusters. The object distribution for each clusters are similar to the result of K means Algorithm. Hence we can conclude that the classifier method would return the same results if the same data is used as an input."
   ]
  },
  {
   "cell_type": "code",
   "execution_count": 75,
   "id": "8ee0b7c9",
   "metadata": {},
   "outputs": [],
   "source": [
    "rawdata1['K-Mean-Cluster'] = label_mean"
   ]
  },
  {
   "cell_type": "code",
   "execution_count": 76,
   "id": "9281cacf",
   "metadata": {},
   "outputs": [],
   "source": [
    "rawdata1['Ward-Method'] = label_ward"
   ]
  },
  {
   "cell_type": "code",
   "execution_count": 82,
   "id": "bb1f791a",
   "metadata": {},
   "outputs": [
    {
     "data": {
      "text/html": [
       "<div>\n",
       "<style scoped>\n",
       "    .dataframe tbody tr th:only-of-type {\n",
       "        vertical-align: middle;\n",
       "    }\n",
       "\n",
       "    .dataframe tbody tr th {\n",
       "        vertical-align: top;\n",
       "    }\n",
       "\n",
       "    .dataframe thead th {\n",
       "        text-align: right;\n",
       "    }\n",
       "</style>\n",
       "<table border=\"1\" class=\"dataframe\">\n",
       "  <thead>\n",
       "    <tr style=\"text-align: right;\">\n",
       "      <th></th>\n",
       "      <th>uuid</th>\n",
       "      <th>uJy</th>\n",
       "      <th>duration</th>\n",
       "      <th>K-Mean-Cluster</th>\n",
       "      <th>Ward-Method</th>\n",
       "    </tr>\n",
       "  </thead>\n",
       "  <tbody>\n",
       "    <tr>\n",
       "      <th>0</th>\n",
       "      <td>2776</td>\n",
       "      <td>202.950495</td>\n",
       "      <td>404.0</td>\n",
       "      <td>4</td>\n",
       "      <td>4</td>\n",
       "    </tr>\n",
       "    <tr>\n",
       "      <th>1</th>\n",
       "      <td>2777</td>\n",
       "      <td>101.305882</td>\n",
       "      <td>255.0</td>\n",
       "      <td>1</td>\n",
       "      <td>3</td>\n",
       "    </tr>\n",
       "    <tr>\n",
       "      <th>2</th>\n",
       "      <td>2778</td>\n",
       "      <td>2664.370370</td>\n",
       "      <td>567.0</td>\n",
       "      <td>0</td>\n",
       "      <td>2</td>\n",
       "    </tr>\n",
       "    <tr>\n",
       "      <th>3</th>\n",
       "      <td>2779</td>\n",
       "      <td>379.125490</td>\n",
       "      <td>255.0</td>\n",
       "      <td>4</td>\n",
       "      <td>4</td>\n",
       "    </tr>\n",
       "    <tr>\n",
       "      <th>4</th>\n",
       "      <td>2780</td>\n",
       "      <td>560.356371</td>\n",
       "      <td>463.0</td>\n",
       "      <td>4</td>\n",
       "      <td>4</td>\n",
       "    </tr>\n",
       "  </tbody>\n",
       "</table>\n",
       "</div>"
      ],
      "text/plain": [
       "   uuid          uJy  duration  K-Mean-Cluster  Ward-Method\n",
       "0  2776   202.950495     404.0               4            4\n",
       "1  2777   101.305882     255.0               1            3\n",
       "2  2778  2664.370370     567.0               0            2\n",
       "3  2779   379.125490     255.0               4            4\n",
       "4  2780   560.356371     463.0               4            4"
      ]
     },
     "execution_count": 82,
     "metadata": {},
     "output_type": "execute_result"
    }
   ],
   "source": [
    "rawdata1.head(5)"
   ]
  },
  {
   "cell_type": "markdown",
   "id": "0d2cf3dc",
   "metadata": {},
   "source": [
    "A glimpse of the dataset with their respective clusters are tabled as above. "
   ]
  },
  {
   "cell_type": "markdown",
   "id": "4cd3fa24",
   "metadata": {},
   "source": [
    "# Conclusion\n",
    "\n",
    "The objects are heavily clustered based on the Flux value (uJy), the duration variable also contribute towards classifying the object however it was less significant. Further analysis to be done on object uuid 2916 and 2938 as the flux value are extremely too high. This value could be biased as the distance of the objects were not considered / included in the calculation during constructing the features. \n",
    "\n",
    "In the nutshell, it is recommended to analyse the result in the perspective of astronomical standpoint in order to evaluate the results accuracy. In the case where the classification is inaccurate, the features could be improve by using the provided formula. This could improve the features representation of the flux value and also the duration of the supernova. \n",
    "\n"
   ]
  },
  {
   "cell_type": "code",
   "execution_count": 81,
   "id": "ec76b9bd",
   "metadata": {},
   "outputs": [],
   "source": [
    "# fig, ax = plt.subplots(1,2,figsize = (14,3))\n",
    "# sns.scatterplot(x=\"uJy\", y=\"duration\", data = plot_mean, ax = ax[0], hue = \"cluster\").set_title(\"Classification via K-Means Method\")\n",
    "# sns.scatterplot(x=\"uJy\", y=\"duration\", data = plot_ward, ax = ax[1], hue = \"cluster\").set_title(\"Classification via KNN-Ward Method\")"
   ]
  }
 ],
 "metadata": {
  "kernelspec": {
   "display_name": "Python 3 (ipykernel)",
   "language": "python",
   "name": "python3"
  },
  "language_info": {
   "codemirror_mode": {
    "name": "ipython",
    "version": 3
   },
   "file_extension": ".py",
   "mimetype": "text/x-python",
   "name": "python",
   "nbconvert_exporter": "python",
   "pygments_lexer": "ipython3",
   "version": "3.9.5"
  }
 },
 "nbformat": 4,
 "nbformat_minor": 5
}
